{
 "cells": [
  {
   "cell_type": "markdown",
   "metadata": {},
   "source": [
    "# Example of how to use cira with sci-kit learn "
   ]
  },
  {
   "cell_type": "markdown",
   "metadata": {},
   "source": [
    "understand that this is just an example and not a good model for actual trading.\n",
    "\n",
    "In this example we will setup cira and use Liner Regression as an model and try to make prediction on a crypto asset. "
   ]
  },
  {
   "cell_type": "markdown",
   "metadata": {},
   "source": [
    "### Cira setup"
   ]
  },
  {
   "cell_type": "code",
   "execution_count": 19,
   "metadata": {},
   "outputs": [],
   "source": [
    "import cira"
   ]
  },
  {
   "cell_type": "code",
   "execution_count": 20,
   "metadata": {},
   "outputs": [],
   "source": [
    "cira.auth.KEY_FILE = \"../alpc_key.json\"\n",
    "assert cira.auth.check_keys(), \"the set keys dose not work\""
   ]
  },
  {
   "cell_type": "code",
   "execution_count": 21,
   "metadata": {},
   "outputs": [],
   "source": [
    "portfolio = cira.Portfolio()\n",
    "crypto_exchange = cira.CryptoExchange()"
   ]
  },
  {
   "cell_type": "markdown",
   "metadata": {},
   "source": [
    "### Fetching data "
   ]
  },
  {
   "cell_type": "code",
   "execution_count": 22,
   "metadata": {},
   "outputs": [
    {
     "data": {
      "text/html": [
       "<div>\n",
       "<style scoped>\n",
       "    .dataframe tbody tr th:only-of-type {\n",
       "        vertical-align: middle;\n",
       "    }\n",
       "\n",
       "    .dataframe tbody tr th {\n",
       "        vertical-align: top;\n",
       "    }\n",
       "\n",
       "    .dataframe thead th {\n",
       "        text-align: right;\n",
       "    }\n",
       "</style>\n",
       "<table border=\"1\" class=\"dataframe\">\n",
       "  <thead>\n",
       "    <tr style=\"text-align: right;\">\n",
       "      <th></th>\n",
       "      <th></th>\n",
       "      <th>open</th>\n",
       "      <th>high</th>\n",
       "      <th>low</th>\n",
       "      <th>close</th>\n",
       "      <th>volume</th>\n",
       "      <th>trade_count</th>\n",
       "      <th>vwap</th>\n",
       "    </tr>\n",
       "    <tr>\n",
       "      <th>symbol</th>\n",
       "      <th>timestamp</th>\n",
       "      <th></th>\n",
       "      <th></th>\n",
       "      <th></th>\n",
       "      <th></th>\n",
       "      <th></th>\n",
       "      <th></th>\n",
       "      <th></th>\n",
       "    </tr>\n",
       "  </thead>\n",
       "  <tbody>\n",
       "    <tr>\n",
       "      <th rowspan=\"5\" valign=\"top\">ETH/USD</th>\n",
       "      <th>2020-07-01 05:00:00+00:00</th>\n",
       "      <td>225.60</td>\n",
       "      <td>232.42</td>\n",
       "      <td>224.93</td>\n",
       "      <td>231.33</td>\n",
       "      <td>180.019</td>\n",
       "      <td>91.0</td>\n",
       "      <td>229.234661</td>\n",
       "    </tr>\n",
       "    <tr>\n",
       "      <th>2020-07-02 05:00:00+00:00</th>\n",
       "      <td>231.22</td>\n",
       "      <td>231.66</td>\n",
       "      <td>223.16</td>\n",
       "      <td>227.15</td>\n",
       "      <td>791.799</td>\n",
       "      <td>106.0</td>\n",
       "      <td>226.154453</td>\n",
       "    </tr>\n",
       "    <tr>\n",
       "      <th>2020-07-03 05:00:00+00:00</th>\n",
       "      <td>227.00</td>\n",
       "      <td>228.07</td>\n",
       "      <td>224.98</td>\n",
       "      <td>226.10</td>\n",
       "      <td>167.520</td>\n",
       "      <td>109.0</td>\n",
       "      <td>226.695652</td>\n",
       "    </tr>\n",
       "    <tr>\n",
       "      <th>2020-07-04 05:00:00+00:00</th>\n",
       "      <td>226.59</td>\n",
       "      <td>230.38</td>\n",
       "      <td>226.00</td>\n",
       "      <td>228.26</td>\n",
       "      <td>89.578</td>\n",
       "      <td>57.0</td>\n",
       "      <td>228.061196</td>\n",
       "    </tr>\n",
       "    <tr>\n",
       "      <th>2020-07-05 05:00:00+00:00</th>\n",
       "      <td>228.19</td>\n",
       "      <td>228.19</td>\n",
       "      <td>223.79</td>\n",
       "      <td>227.96</td>\n",
       "      <td>66.322</td>\n",
       "      <td>27.0</td>\n",
       "      <td>225.873532</td>\n",
       "    </tr>\n",
       "  </tbody>\n",
       "</table>\n",
       "</div>"
      ],
      "text/plain": [
       "                                     open    high     low   close   volume  \\\n",
       "symbol  timestamp                                                            \n",
       "ETH/USD 2020-07-01 05:00:00+00:00  225.60  232.42  224.93  231.33  180.019   \n",
       "        2020-07-02 05:00:00+00:00  231.22  231.66  223.16  227.15  791.799   \n",
       "        2020-07-03 05:00:00+00:00  227.00  228.07  224.98  226.10  167.520   \n",
       "        2020-07-04 05:00:00+00:00  226.59  230.38  226.00  228.26   89.578   \n",
       "        2020-07-05 05:00:00+00:00  228.19  228.19  223.79  227.96   66.322   \n",
       "\n",
       "                                   trade_count        vwap  \n",
       "symbol  timestamp                                           \n",
       "ETH/USD 2020-07-01 05:00:00+00:00         91.0  229.234661  \n",
       "        2020-07-02 05:00:00+00:00        106.0  226.154453  \n",
       "        2020-07-03 05:00:00+00:00        109.0  226.695652  \n",
       "        2020-07-04 05:00:00+00:00         57.0  228.061196  \n",
       "        2020-07-05 05:00:00+00:00         27.0  225.873532  "
      ]
     },
     "execution_count": 22,
     "metadata": {},
     "output_type": "execute_result"
    }
   ],
   "source": [
    "from datetime import datetime\n",
    "\n",
    "SYMBOL = \"ETH/USD\"\n",
    "\n",
    "cry = cira.Cryptocurrency(SYMBOL)    \n",
    "\n",
    "start = datetime(2020, 7, 1)\n",
    "end = datetime(2023, 7, 1)\n",
    "\n",
    "data = cry.historical_data_df(start_date=start, end_date=end)\n",
    "data.head()"
   ]
  },
  {
   "cell_type": "markdown",
   "metadata": {},
   "source": [
    "### Machine learning"
   ]
  },
  {
   "cell_type": "markdown",
   "metadata": {},
   "source": [
    "training the model "
   ]
  },
  {
   "cell_type": "code",
   "execution_count": 23,
   "metadata": {},
   "outputs": [
    {
     "name": "stdout",
     "output_type": "stream",
     "text": [
      "Mean Squared Error: 3090.84756905199\n"
     ]
    }
   ],
   "source": [
    "from sklearn.model_selection import train_test_split\n",
    "from sklearn.linear_model import LinearRegression\n",
    "from sklearn.metrics import mean_squared_error\n",
    "\n",
    "\n",
    "y = data[['close']]\n",
    "X = data[['open', 'high', 'low']]\n",
    "\n",
    "window_size = 10\n",
    "y_preds = []\n",
    "actual_prices = []\n",
    "\n",
    "for i in range(len(X) - window_size):\n",
    "    X_window = X.iloc[i:i + window_size]\n",
    "    y_window = y.iloc[i:i + window_size]\n",
    "    \n",
    "    model = LinearRegression()\n",
    "    model.fit(X_window.to_numpy(), y_window.to_numpy())\n",
    "    \n",
    "    next_day_features = X.iloc[i + window_size]\n",
    "    next_day_pred = model.predict([next_day_features])[0]\n",
    "    \n",
    "    y_preds.append(next_day_pred)\n",
    "    actual_prices.append(y.iloc[i + window_size])\n",
    "\n",
    "mse = mean_squared_error(actual_prices, y_preds)\n",
    "print(f\"Mean Squared Error: {mse}\")"
   ]
  },
  {
   "cell_type": "markdown",
   "metadata": {},
   "source": [
    "using the models predictions"
   ]
  },
  {
   "cell_type": "code",
   "execution_count": 24,
   "metadata": {},
   "outputs": [],
   "source": [
    "def run(y_preds:list, cash:float, shares:int) -> float:\n",
    "    for i in range(len(y_preds) - 1):\n",
    "        if y_preds[i + 1] > y_preds[i] and cash >= y_preds[i + 1]: \n",
    "            cash -= y_preds[i + 1]\n",
    "            shares += 1\n",
    "            #print(f\"Buy 1 share at price: {y_preds[i + 1]}\")\n",
    "        \n",
    "        elif y_preds[i + 1] < y_preds[i] and shares > 0: \n",
    "            cash += y_preds[i + 1]\n",
    "            shares -= 1\n",
    "            #print(f\"Sell 1 share at price: {y_preds[i + 1]}\")\n",
    "\n",
    "    final_cash = cash + shares * y_preds[-1]\n",
    "    return final_cash[0]"
   ]
  },
  {
   "cell_type": "code",
   "execution_count": 25,
   "metadata": {},
   "outputs": [
    {
     "name": "stdout",
     "output_type": "stream",
     "text": [
      "predicted profit/loss: 29361.5 USD$\n"
     ]
    }
   ],
   "source": [
    "cash = portfolio.cash()  # Initial capital\n",
    "shares = portfolio.position_in(str(cry)).quantity()  # Number of shares held\n",
    "print(\"predicted profit/loss:\", f\"{run(y_preds, cash, shares) - portfolio.cash():.1f} USD$\")"
   ]
  },
  {
   "cell_type": "code",
   "execution_count": null,
   "metadata": {},
   "outputs": [],
   "source": []
  }
 ],
 "metadata": {
  "kernelspec": {
   "display_name": "env",
   "language": "python",
   "name": "python3"
  },
  "language_info": {
   "codemirror_mode": {
    "name": "ipython",
    "version": 3
   },
   "file_extension": ".py",
   "mimetype": "text/x-python",
   "name": "python",
   "nbconvert_exporter": "python",
   "pygments_lexer": "ipython3",
   "version": "3.8.10"
  },
  "orig_nbformat": 4
 },
 "nbformat": 4,
 "nbformat_minor": 2
}
