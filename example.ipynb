{
 "cells": [
  {
   "cell_type": "markdown",
   "metadata": {},
   "source": [
    "# Example of how to use cira with scikit-learn "
   ]
  },
  {
   "cell_type": "markdown",
   "metadata": {},
   "source": [
    "understand that this is just an example and not a good model for actual trading.\n",
    "\n",
    "In this example we will setup cira and use Liner Regression as an model and try to make prediction on a crypto asset. "
   ]
  },
  {
   "cell_type": "markdown",
   "metadata": {},
   "source": [
    "### Cira setup"
   ]
  },
  {
   "cell_type": "code",
   "execution_count": 2,
   "metadata": {},
   "outputs": [],
   "source": [
    "import cira"
   ]
  },
  {
   "cell_type": "code",
   "execution_count": 3,
   "metadata": {},
   "outputs": [],
   "source": [
    "cira.auth.KEY_FILE = \"../alpc_key.json\"\n",
    "assert cira.auth.check_keys(), \"the set keys dose not work\""
   ]
  },
  {
   "cell_type": "code",
   "execution_count": 5,
   "metadata": {},
   "outputs": [],
   "source": [
    "#portfolio = cira.Portfolio()\n",
    "exchange = cira.Exchange()"
   ]
  },
  {
   "cell_type": "markdown",
   "metadata": {},
   "source": [
    "### Fetching data "
   ]
  },
  {
   "cell_type": "code",
   "execution_count": 6,
   "metadata": {},
   "outputs": [
    {
     "data": {
      "text/html": [
       "<div>\n",
       "<style scoped>\n",
       "    .dataframe tbody tr th:only-of-type {\n",
       "        vertical-align: middle;\n",
       "    }\n",
       "\n",
       "    .dataframe tbody tr th {\n",
       "        vertical-align: top;\n",
       "    }\n",
       "\n",
       "    .dataframe thead th {\n",
       "        text-align: right;\n",
       "    }\n",
       "</style>\n",
       "<table border=\"1\" class=\"dataframe\">\n",
       "  <thead>\n",
       "    <tr style=\"text-align: right;\">\n",
       "      <th></th>\n",
       "      <th></th>\n",
       "      <th>open</th>\n",
       "      <th>high</th>\n",
       "      <th>low</th>\n",
       "      <th>close</th>\n",
       "      <th>volume</th>\n",
       "      <th>trade_count</th>\n",
       "      <th>vwap</th>\n",
       "    </tr>\n",
       "    <tr>\n",
       "      <th>symbol</th>\n",
       "      <th>timestamp</th>\n",
       "      <th></th>\n",
       "      <th></th>\n",
       "      <th></th>\n",
       "      <th></th>\n",
       "      <th></th>\n",
       "      <th></th>\n",
       "      <th></th>\n",
       "    </tr>\n",
       "  </thead>\n",
       "  <tbody>\n",
       "    <tr>\n",
       "      <th rowspan=\"5\" valign=\"top\">SPY</th>\n",
       "      <th>2020-07-01 04:00:00+00:00</th>\n",
       "      <td>309.54</td>\n",
       "      <td>311.89</td>\n",
       "      <td>309.07</td>\n",
       "      <td>310.57</td>\n",
       "      <td>72474858.0</td>\n",
       "      <td>418495.0</td>\n",
       "      <td>310.486119</td>\n",
       "    </tr>\n",
       "    <tr>\n",
       "      <th>2020-07-02 04:00:00+00:00</th>\n",
       "      <td>314.24</td>\n",
       "      <td>315.70</td>\n",
       "      <td>311.51</td>\n",
       "      <td>312.19</td>\n",
       "      <td>69344217.0</td>\n",
       "      <td>433527.0</td>\n",
       "      <td>313.315661</td>\n",
       "    </tr>\n",
       "    <tr>\n",
       "      <th>2020-07-06 04:00:00+00:00</th>\n",
       "      <td>316.37</td>\n",
       "      <td>317.68</td>\n",
       "      <td>315.56</td>\n",
       "      <td>317.01</td>\n",
       "      <td>61713828.0</td>\n",
       "      <td>331248.0</td>\n",
       "      <td>316.169274</td>\n",
       "    </tr>\n",
       "    <tr>\n",
       "      <th>2020-07-07 04:00:00+00:00</th>\n",
       "      <td>315.38</td>\n",
       "      <td>317.52</td>\n",
       "      <td>313.37</td>\n",
       "      <td>313.77</td>\n",
       "      <td>82909978.0</td>\n",
       "      <td>398769.0</td>\n",
       "      <td>315.437016</td>\n",
       "    </tr>\n",
       "    <tr>\n",
       "      <th>2020-07-08 04:00:00+00:00</th>\n",
       "      <td>314.61</td>\n",
       "      <td>316.30</td>\n",
       "      <td>312.70</td>\n",
       "      <td>316.16</td>\n",
       "      <td>54638669.0</td>\n",
       "      <td>325899.0</td>\n",
       "      <td>314.892715</td>\n",
       "    </tr>\n",
       "  </tbody>\n",
       "</table>\n",
       "</div>"
      ],
      "text/plain": [
       "                                    open    high     low   close      volume  \\\n",
       "symbol timestamp                                                               \n",
       "SPY    2020-07-01 04:00:00+00:00  309.54  311.89  309.07  310.57  72474858.0   \n",
       "       2020-07-02 04:00:00+00:00  314.24  315.70  311.51  312.19  69344217.0   \n",
       "       2020-07-06 04:00:00+00:00  316.37  317.68  315.56  317.01  61713828.0   \n",
       "       2020-07-07 04:00:00+00:00  315.38  317.52  313.37  313.77  82909978.0   \n",
       "       2020-07-08 04:00:00+00:00  314.61  316.30  312.70  316.16  54638669.0   \n",
       "\n",
       "                                  trade_count        vwap  \n",
       "symbol timestamp                                           \n",
       "SPY    2020-07-01 04:00:00+00:00     418495.0  310.486119  \n",
       "       2020-07-02 04:00:00+00:00     433527.0  313.315661  \n",
       "       2020-07-06 04:00:00+00:00     331248.0  316.169274  \n",
       "       2020-07-07 04:00:00+00:00     398769.0  315.437016  \n",
       "       2020-07-08 04:00:00+00:00     325899.0  314.892715  "
      ]
     },
     "execution_count": 6,
     "metadata": {},
     "output_type": "execute_result"
    }
   ],
   "source": [
    "from datetime import datetime\n",
    "\n",
    "SYMBOL = \"SPY\"\n",
    "\n",
    "cry = cira.Stock(SYMBOL)    \n",
    "\n",
    "start = datetime(2020, 7, 1)\n",
    "end = datetime(2023, 7, 1)\n",
    "\n",
    "data = cry.historical_data_df(start_date=start, end_date=end)\n",
    "data.head()"
   ]
  },
  {
   "cell_type": "markdown",
   "metadata": {},
   "source": [
    "### Machine learning"
   ]
  },
  {
   "cell_type": "markdown",
   "metadata": {},
   "source": [
    "training the model "
   ]
  },
  {
   "cell_type": "code",
   "execution_count": 16,
   "metadata": {},
   "outputs": [
    {
     "name": "stdout",
     "output_type": "stream",
     "text": [
      "Mean Squared Error: 3.6098473671662688\n"
     ]
    }
   ],
   "source": [
    "from sklearn.model_selection import train_test_split\n",
    "from sklearn.linear_model import LinearRegression\n",
    "from sklearn.metrics import mean_squared_error\n",
    "\n",
    "\n",
    "y = data[['close']]\n",
    "X = data[['open', 'high', 'low']]\n",
    "\n",
    "X_train, X_test, y_train, y_test = train_test_split(X, y, test_size=0.1, random_state=42)\n",
    "model = LinearRegression()\n",
    "model.fit(X_train, y_train)\n",
    "\n",
    "y_pred = model.predict(X_test)\n",
    "mse = mean_squared_error(y_test, y_pred)\n",
    "print(f\"Mean Squared Error: {mse}\")"
   ]
  },
  {
   "cell_type": "markdown",
   "metadata": {},
   "source": [
    "using the models predictions"
   ]
  },
  {
   "cell_type": "code",
   "execution_count": 23,
   "metadata": {},
   "outputs": [],
   "source": [
    "def trade_stocks(predictions, threshold=0.0):\n",
    "    \"\"\" Buy if 1 sell -1 \"\"\"\n",
    "    BUY = 1 \n",
    "    SELL = -1\n",
    "    HOLD = 0\n",
    "    positions = [BUY if pred > threshold else SELL for pred in predictions]\n",
    "    positions = [HOLD if positions[i] == positions[i-1] else positions[i] for i in range(len(positions)) ]\n",
    "    for i, position in enumerate(positions): \n",
    "        if position == BUY:\n",
    "            break \n",
    "        if position == SELL:\n",
    "            positions[i] = HOLD\n",
    "    return positions"
   ]
  },
  {
   "cell_type": "code",
   "execution_count": 24,
   "metadata": {},
   "outputs": [
    {
     "name": "stdout",
     "output_type": "stream",
     "text": [
      "[0, 0, 0, 0, 0, 0, 1, 0, -1, 0, 1, 0, 0, -1, 1, 0, -1, 0, 1, -1, 0, 0, 0, 0, 1, 0, -1, 0, 1, 0, -1, 0, 1, -1, 0, 0, 1, 0, 0, 0, -1, 0, 1, -1, 0, 0, 1, 0, -1, 0, 0, 1, 0, -1, 0, 1, -1, 0, 1, -1, 0, 1, -1, 0, 1, -1, 1, -1, 1, -1, 0, 1, 0, -1, 1, 0]\n"
     ]
    }
   ],
   "source": [
    "positions = trade_stocks(y_pred, threshold=400)\n",
    "print(positions)"
   ]
  },
  {
   "cell_type": "code",
   "execution_count": null,
   "metadata": {},
   "outputs": [],
   "source": []
  }
 ],
 "metadata": {
  "kernelspec": {
   "display_name": "env",
   "language": "python",
   "name": "python3"
  },
  "language_info": {
   "codemirror_mode": {
    "name": "ipython",
    "version": 3
   },
   "file_extension": ".py",
   "mimetype": "text/x-python",
   "name": "python",
   "nbconvert_exporter": "python",
   "pygments_lexer": "ipython3",
   "version": "3.8.10"
  },
  "orig_nbformat": 4
 },
 "nbformat": 4,
 "nbformat_minor": 2
}
