{
 "cells": [
  {
   "cell_type": "markdown",
   "metadata": {},
   "source": [
    "# Example of how to use cira with sci-kit learn "
   ]
  },
  {
   "cell_type": "markdown",
   "metadata": {},
   "source": [
    "understand that this is just an example and not a good model for actual trading.\n",
    "\n",
    "In this example we will setup cira and use Liner Regression as an model and try to make prediction on a crypto asset. "
   ]
  },
  {
   "cell_type": "markdown",
   "metadata": {},
   "source": [
    "### Cira setup"
   ]
  },
  {
   "cell_type": "code",
   "execution_count": 1,
   "metadata": {},
   "outputs": [],
   "source": [
    "import cira"
   ]
  },
  {
   "cell_type": "code",
   "execution_count": 2,
   "metadata": {},
   "outputs": [],
   "source": [
    "cira.auth.KEY_FILE = \"../alpc_key.json\"\n",
    "assert cira.auth.check_keys(), \"the set keys dose not work\""
   ]
  },
  {
   "cell_type": "code",
   "execution_count": 3,
   "metadata": {},
   "outputs": [],
   "source": [
    "portfolio = cira.Portfolio()\n",
    "crypto_exchange = cira.CryptoExchange()"
   ]
  },
  {
   "cell_type": "markdown",
   "metadata": {},
   "source": [
    "### Fetching data "
   ]
  },
  {
   "cell_type": "code",
   "execution_count": 4,
   "metadata": {},
   "outputs": [
    {
     "data": {
      "text/html": [
       "<div>\n",
       "<style scoped>\n",
       "    .dataframe tbody tr th:only-of-type {\n",
       "        vertical-align: middle;\n",
       "    }\n",
       "\n",
       "    .dataframe tbody tr th {\n",
       "        vertical-align: top;\n",
       "    }\n",
       "\n",
       "    .dataframe thead th {\n",
       "        text-align: right;\n",
       "    }\n",
       "</style>\n",
       "<table border=\"1\" class=\"dataframe\">\n",
       "  <thead>\n",
       "    <tr style=\"text-align: right;\">\n",
       "      <th></th>\n",
       "      <th></th>\n",
       "      <th>open</th>\n",
       "      <th>high</th>\n",
       "      <th>low</th>\n",
       "      <th>close</th>\n",
       "      <th>volume</th>\n",
       "      <th>trade_count</th>\n",
       "      <th>vwap</th>\n",
       "    </tr>\n",
       "    <tr>\n",
       "      <th>symbol</th>\n",
       "      <th>timestamp</th>\n",
       "      <th></th>\n",
       "      <th></th>\n",
       "      <th></th>\n",
       "      <th></th>\n",
       "      <th></th>\n",
       "      <th></th>\n",
       "      <th></th>\n",
       "    </tr>\n",
       "  </thead>\n",
       "  <tbody>\n",
       "    <tr>\n",
       "      <th rowspan=\"5\" valign=\"top\">BTC/USD</th>\n",
       "      <th>2020-07-01 05:00:00+00:00</th>\n",
       "      <td>9129.5</td>\n",
       "      <td>9270.0</td>\n",
       "      <td>9129.5</td>\n",
       "      <td>9240.5</td>\n",
       "      <td>5.4679</td>\n",
       "      <td>59.0</td>\n",
       "      <td>9230.826688</td>\n",
       "    </tr>\n",
       "    <tr>\n",
       "      <th>2020-07-02 05:00:00+00:00</th>\n",
       "      <td>9208.0</td>\n",
       "      <td>9244.0</td>\n",
       "      <td>8990.0</td>\n",
       "      <td>9109.0</td>\n",
       "      <td>12.2190</td>\n",
       "      <td>67.0</td>\n",
       "      <td>9075.481038</td>\n",
       "    </tr>\n",
       "    <tr>\n",
       "      <th>2020-07-03 05:00:00+00:00</th>\n",
       "      <td>9106.0</td>\n",
       "      <td>9125.0</td>\n",
       "      <td>9065.5</td>\n",
       "      <td>9092.0</td>\n",
       "      <td>2.6835</td>\n",
       "      <td>41.0</td>\n",
       "      <td>9112.852543</td>\n",
       "    </tr>\n",
       "    <tr>\n",
       "      <th>2020-07-04 05:00:00+00:00</th>\n",
       "      <td>9087.0</td>\n",
       "      <td>9169.0</td>\n",
       "      <td>9063.0</td>\n",
       "      <td>9130.0</td>\n",
       "      <td>7.4914</td>\n",
       "      <td>36.0</td>\n",
       "      <td>9132.065382</td>\n",
       "    </tr>\n",
       "    <tr>\n",
       "      <th>2020-07-05 05:00:00+00:00</th>\n",
       "      <td>9094.5</td>\n",
       "      <td>9119.5</td>\n",
       "      <td>8916.0</td>\n",
       "      <td>9096.0</td>\n",
       "      <td>12.8973</td>\n",
       "      <td>79.0</td>\n",
       "      <td>9069.180363</td>\n",
       "    </tr>\n",
       "  </tbody>\n",
       "</table>\n",
       "</div>"
      ],
      "text/plain": [
       "                                     open    high     low   close   volume  \\\n",
       "symbol  timestamp                                                            \n",
       "BTC/USD 2020-07-01 05:00:00+00:00  9129.5  9270.0  9129.5  9240.5   5.4679   \n",
       "        2020-07-02 05:00:00+00:00  9208.0  9244.0  8990.0  9109.0  12.2190   \n",
       "        2020-07-03 05:00:00+00:00  9106.0  9125.0  9065.5  9092.0   2.6835   \n",
       "        2020-07-04 05:00:00+00:00  9087.0  9169.0  9063.0  9130.0   7.4914   \n",
       "        2020-07-05 05:00:00+00:00  9094.5  9119.5  8916.0  9096.0  12.8973   \n",
       "\n",
       "                                   trade_count         vwap  \n",
       "symbol  timestamp                                            \n",
       "BTC/USD 2020-07-01 05:00:00+00:00         59.0  9230.826688  \n",
       "        2020-07-02 05:00:00+00:00         67.0  9075.481038  \n",
       "        2020-07-03 05:00:00+00:00         41.0  9112.852543  \n",
       "        2020-07-04 05:00:00+00:00         36.0  9132.065382  \n",
       "        2020-07-05 05:00:00+00:00         79.0  9069.180363  "
      ]
     },
     "execution_count": 4,
     "metadata": {},
     "output_type": "execute_result"
    }
   ],
   "source": [
    "from datetime import datetime\n",
    "\n",
    "SYMBOL = \"BTC/USD\"\n",
    "\n",
    "cry = cira.Cryptocurrency(SYMBOL)    \n",
    "\n",
    "start = datetime(2020, 7, 1)\n",
    "end = datetime(2023, 7, 1)\n",
    "\n",
    "data = cry.historical_data_df(start_date=start, end_date=end)\n",
    "data.head()"
   ]
  },
  {
   "cell_type": "markdown",
   "metadata": {},
   "source": [
    "### Machine learning"
   ]
  },
  {
   "cell_type": "markdown",
   "metadata": {},
   "source": [
    "training the model "
   ]
  },
  {
   "cell_type": "code",
   "execution_count": 32,
   "metadata": {},
   "outputs": [
    {
     "name": "stdout",
     "output_type": "stream",
     "text": [
      "Mean Squared Error: 880836.2174796629\n"
     ]
    }
   ],
   "source": [
    "from sklearn.model_selection import train_test_split\n",
    "from sklearn.linear_model import LinearRegression\n",
    "from sklearn.metrics import mean_squared_error\n",
    "\n",
    "\n",
    "y = data[['close']]\n",
    "X = data[['open', 'high', 'low']]\n",
    "\n",
    "X_train, X_test, y_train, y_test = train_test_split(X, y, test_size=0.01, random_state=42)\n",
    "model = LinearRegression()\n",
    "model.fit(X_train, y_train)\n",
    "\n",
    "y_pred = model.predict(X_test)\n",
    "mse = mean_squared_error(y_test, y_pred)\n",
    "print(f\"Mean Squared Error: {mse}\")"
   ]
  },
  {
   "cell_type": "markdown",
   "metadata": {},
   "source": [
    "using the models predictions"
   ]
  },
  {
   "cell_type": "code",
   "execution_count": 33,
   "metadata": {},
   "outputs": [],
   "source": [
    "def trade_stocks(predictions, threshold=0.0):\n",
    "    \"\"\" Buy if 1 sell -1 \"\"\"\n",
    "    positions = [1 if pred > threshold else -1 for pred in predictions]\n",
    "    return positions"
   ]
  },
  {
   "cell_type": "code",
   "execution_count": 34,
   "metadata": {},
   "outputs": [
    {
     "name": "stdout",
     "output_type": "stream",
     "text": [
      "[-1, 1, 1, 1, 1, 1, 1, 1, 1, 1, -1]\n"
     ]
    }
   ],
   "source": [
    "positions = trade_stocks(y_pred, threshold=20_000)\n",
    "print(positions)"
   ]
  },
  {
   "cell_type": "code",
   "execution_count": null,
   "metadata": {},
   "outputs": [],
   "source": []
  }
 ],
 "metadata": {
  "kernelspec": {
   "display_name": "env",
   "language": "python",
   "name": "python3"
  },
  "language_info": {
   "codemirror_mode": {
    "name": "ipython",
    "version": 3
   },
   "file_extension": ".py",
   "mimetype": "text/x-python",
   "name": "python",
   "nbconvert_exporter": "python",
   "pygments_lexer": "ipython3",
   "version": "3.8.10"
  },
  "orig_nbformat": 4
 },
 "nbformat": 4,
 "nbformat_minor": 2
}
