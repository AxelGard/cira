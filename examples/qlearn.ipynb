{
 "cells": [
  {
   "cell_type": "code",
   "execution_count": 3,
   "metadata": {},
   "outputs": [],
   "source": [
    "import cira\n",
    "\n",
    "cira.auth.KEY_FILE = \"../../alpc_key.json\"\n",
    "assert cira.auth.check_keys(), \"the set keys dose not work\""
   ]
  },
  {
   "cell_type": "code",
   "execution_count": 4,
   "metadata": {},
   "outputs": [],
   "source": [
    "portfolio = cira.Portfolio()"
   ]
  },
  {
   "cell_type": "code",
   "execution_count": 5,
   "metadata": {},
   "outputs": [],
   "source": [
    "import pandas as pd \n",
    "import numpy as np\n",
    "from typing import List, Dict"
   ]
  },
  {
   "cell_type": "code",
   "execution_count": 6,
   "metadata": {},
   "outputs": [],
   "source": [
    "from datetime import datetime\n",
    "\n",
    "assets_symbols = [\"MSFT\", \"TSLA\", \"AMZN\"]\n",
    "stk_hist_data = {}\n",
    "IS_CACHED = True\n",
    "\n",
    "for SYMBOL in assets_symbols:\n",
    "    SYM_HIST_FILE = f\"./{SYMBOL}.csv\"\n",
    "\n",
    "    stk = cira.Stock(SYMBOL)\n",
    "\n",
    "    if not IS_CACHED:\n",
    "        start = datetime(2015, 7, 1)\n",
    "        end = datetime(2023, 7, 1)\n",
    "        stk.save_historical_data(SYM_HIST_FILE, start, end)\n",
    "    \n",
    "    data = stk.load_historical_data(SYM_HIST_FILE)\n",
    "    stk_hist_data[SYMBOL] = data\n",
    "\n"
   ]
  },
  {
   "cell_type": "code",
   "execution_count": 10,
   "metadata": {},
   "outputs": [
    {
     "data": {
      "text/html": [
       "<div>\n",
       "<style scoped>\n",
       "    .dataframe tbody tr th:only-of-type {\n",
       "        vertical-align: middle;\n",
       "    }\n",
       "\n",
       "    .dataframe tbody tr th {\n",
       "        vertical-align: top;\n",
       "    }\n",
       "\n",
       "    .dataframe thead th {\n",
       "        text-align: right;\n",
       "    }\n",
       "</style>\n",
       "<table border=\"1\" class=\"dataframe\">\n",
       "  <thead>\n",
       "    <tr style=\"text-align: right;\">\n",
       "      <th></th>\n",
       "      <th>MSFT</th>\n",
       "      <th>TSLA</th>\n",
       "      <th>AMZN</th>\n",
       "    </tr>\n",
       "    <tr>\n",
       "      <th>timestamp</th>\n",
       "      <th></th>\n",
       "      <th></th>\n",
       "      <th></th>\n",
       "    </tr>\n",
       "  </thead>\n",
       "  <tbody>\n",
       "    <tr>\n",
       "      <th>2016-01-04 05:00:00+00:00</th>\n",
       "      <td>54.80</td>\n",
       "      <td>223.41</td>\n",
       "      <td>636.99</td>\n",
       "    </tr>\n",
       "    <tr>\n",
       "      <th>2016-01-05 05:00:00+00:00</th>\n",
       "      <td>55.05</td>\n",
       "      <td>223.43</td>\n",
       "      <td>633.79</td>\n",
       "    </tr>\n",
       "    <tr>\n",
       "      <th>2016-01-06 05:00:00+00:00</th>\n",
       "      <td>54.05</td>\n",
       "      <td>219.04</td>\n",
       "      <td>632.65</td>\n",
       "    </tr>\n",
       "    <tr>\n",
       "      <th>2016-01-07 05:00:00+00:00</th>\n",
       "      <td>52.17</td>\n",
       "      <td>215.65</td>\n",
       "      <td>607.94</td>\n",
       "    </tr>\n",
       "    <tr>\n",
       "      <th>2016-01-08 05:00:00+00:00</th>\n",
       "      <td>52.33</td>\n",
       "      <td>211.00</td>\n",
       "      <td>607.05</td>\n",
       "    </tr>\n",
       "    <tr>\n",
       "      <th>...</th>\n",
       "      <td>...</td>\n",
       "      <td>...</td>\n",
       "      <td>...</td>\n",
       "    </tr>\n",
       "    <tr>\n",
       "      <th>2023-06-26 04:00:00+00:00</th>\n",
       "      <td>328.60</td>\n",
       "      <td>241.05</td>\n",
       "      <td>127.33</td>\n",
       "    </tr>\n",
       "    <tr>\n",
       "      <th>2023-06-27 04:00:00+00:00</th>\n",
       "      <td>334.57</td>\n",
       "      <td>250.21</td>\n",
       "      <td>129.18</td>\n",
       "    </tr>\n",
       "    <tr>\n",
       "      <th>2023-06-28 04:00:00+00:00</th>\n",
       "      <td>335.85</td>\n",
       "      <td>256.24</td>\n",
       "      <td>129.04</td>\n",
       "    </tr>\n",
       "    <tr>\n",
       "      <th>2023-06-29 04:00:00+00:00</th>\n",
       "      <td>335.05</td>\n",
       "      <td>257.50</td>\n",
       "      <td>127.90</td>\n",
       "    </tr>\n",
       "    <tr>\n",
       "      <th>2023-06-30 04:00:00+00:00</th>\n",
       "      <td>340.43</td>\n",
       "      <td>261.77</td>\n",
       "      <td>130.36</td>\n",
       "    </tr>\n",
       "  </tbody>\n",
       "</table>\n",
       "<p>1886 rows × 3 columns</p>\n",
       "</div>"
      ],
      "text/plain": [
       "                             MSFT    TSLA    AMZN\n",
       "timestamp                                        \n",
       "2016-01-04 05:00:00+00:00   54.80  223.41  636.99\n",
       "2016-01-05 05:00:00+00:00   55.05  223.43  633.79\n",
       "2016-01-06 05:00:00+00:00   54.05  219.04  632.65\n",
       "2016-01-07 05:00:00+00:00   52.17  215.65  607.94\n",
       "2016-01-08 05:00:00+00:00   52.33  211.00  607.05\n",
       "...                           ...     ...     ...\n",
       "2023-06-26 04:00:00+00:00  328.60  241.05  127.33\n",
       "2023-06-27 04:00:00+00:00  334.57  250.21  129.18\n",
       "2023-06-28 04:00:00+00:00  335.85  256.24  129.04\n",
       "2023-06-29 04:00:00+00:00  335.05  257.50  127.90\n",
       "2023-06-30 04:00:00+00:00  340.43  261.77  130.36\n",
       "\n",
       "[1886 rows x 3 columns]"
      ]
     },
     "execution_count": 10,
     "metadata": {},
     "output_type": "execute_result"
    }
   ],
   "source": [
    "\n",
    "df = pd.DataFrame()\n",
    "\n",
    "for sym, hist in stk_hist_data.items():\n",
    "    df[sym] = hist[\"close\"]\n",
    "\n",
    "df "
   ]
  },
  {
   "cell_type": "code",
   "execution_count": 32,
   "metadata": {},
   "outputs": [
    {
     "data": {
      "text/plain": [
       "array([[ 54.8 , 223.41, 636.99],\n",
       "       [ 55.05, 223.43, 633.79],\n",
       "       [ 54.05, 219.04, 632.65],\n",
       "       [ 52.17, 215.65, 607.94],\n",
       "       [ 52.33, 211.  , 607.05]])"
      ]
     },
     "execution_count": 32,
     "metadata": {},
     "output_type": "execute_result"
    }
   ],
   "source": [
    "import numpy as np\n",
    "\n",
    "alpha = 0.1  # Adjust based on your experimentation\n",
    "gamma = 0.9  # Adjust based on your experimentation\n",
    "\n",
    "df.head().to_numpy()"
   ]
  },
  {
   "cell_type": "code",
   "execution_count": null,
   "metadata": {},
   "outputs": [],
   "source": []
  }
 ],
 "metadata": {
  "kernelspec": {
   "display_name": "env",
   "language": "python",
   "name": "python3"
  },
  "language_info": {
   "codemirror_mode": {
    "name": "ipython",
    "version": 3
   },
   "file_extension": ".py",
   "mimetype": "text/x-python",
   "name": "python",
   "nbconvert_exporter": "python",
   "pygments_lexer": "ipython3",
   "version": "3.8.10"
  }
 },
 "nbformat": 4,
 "nbformat_minor": 2
}
