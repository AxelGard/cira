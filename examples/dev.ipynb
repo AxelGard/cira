{
 "cells": [
  {
   "cell_type": "code",
   "execution_count": 1,
   "metadata": {},
   "outputs": [],
   "source": [
    "import cira \n",
    "\n",
    "cira.auth.KEY_FILE = \"../../alpc_key.json\"\n",
    "assert cira.auth.check_keys(), \"the set keys dose not work\""
   ]
  },
  {
   "cell_type": "code",
   "execution_count": 2,
   "metadata": {},
   "outputs": [],
   "source": [
    "exch = cira.Exchange()"
   ]
  },
  {
   "cell_type": "code",
   "execution_count": 3,
   "metadata": {},
   "outputs": [
    {
     "data": {
      "text/plain": [
       "False"
      ]
     },
     "execution_count": 3,
     "metadata": {},
     "output_type": "execute_result"
    }
   ],
   "source": [
    "exch.is_open()"
   ]
  },
  {
   "cell_type": "code",
   "execution_count": 4,
   "metadata": {},
   "outputs": [
    {
     "data": {
      "text/plain": [
       "[]"
      ]
     },
     "execution_count": 4,
     "metadata": {},
     "output_type": "execute_result"
    }
   ],
   "source": [
    "exch.symbols_options()"
   ]
  },
  {
   "cell_type": "code",
   "execution_count": 5,
   "metadata": {},
   "outputs": [
    {
     "data": {
      "text/plain": [
       "(True, False, False)"
      ]
     },
     "execution_count": 5,
     "metadata": {},
     "output_type": "execute_result"
    }
   ],
   "source": [
    "ast = cira.Cryptocurrency(\"BTC/USD\")\n",
    "ast.is_tradable(), ast.is_sortable(), ast.can_borrow()"
   ]
  },
  {
   "cell_type": "code",
   "execution_count": 6,
   "metadata": {},
   "outputs": [
    {
     "data": {
      "text/plain": [
       "[(BTCUSD, 0), (MSFT, 14), (PYPL, 3), (TSLA, 1)]"
      ]
     },
     "execution_count": 6,
     "metadata": {},
     "output_type": "execute_result"
    }
   ],
   "source": [
    "cira.Portfolio().all_positions()"
   ]
  },
  {
   "cell_type": "code",
   "execution_count": 7,
   "metadata": {},
   "outputs": [
    {
     "data": {
      "text/plain": [
       "{'asset_id': UUID('b6d1aa75-5c9c-4353-a305-9e2caa1925ab'),\n",
       " 'symbol': 'MSFT',\n",
       " 'exchange': <AssetExchange.NASDAQ: 'NASDAQ'>,\n",
       " 'asset_class': <AssetClass.US_EQUITY: 'us_equity'>,\n",
       " 'asset_marginable': True,\n",
       " 'avg_entry_price': 328.152857143,\n",
       " 'qty': 14,\n",
       " 'side': <PositionSide.LONG: 'long'>,\n",
       " 'market_value': 5821.9,\n",
       " 'cost_basis': 4594.14,\n",
       " 'unrealized_pl': 1227.76,\n",
       " 'unrealized_plpc': 0.2672447944555455,\n",
       " 'unrealized_intraday_pl': 16.52,\n",
       " 'unrealized_intraday_plpc': 0.0028456362890974,\n",
       " 'current_price': 415.85,\n",
       " 'lastday_price': 414.67,\n",
       " 'change_today': 0.0028456362890974,\n",
       " 'swap_rate': None,\n",
       " 'avg_entry_swap_rate': None,\n",
       " 'usd': None,\n",
       " 'qty_available': 14}"
      ]
     },
     "execution_count": 7,
     "metadata": {},
     "output_type": "execute_result"
    }
   ],
   "source": [
    "cira.Stock(\"MSFT\").position()"
   ]
  },
  {
   "cell_type": "code",
   "execution_count": null,
   "metadata": {},
   "outputs": [],
   "source": []
  }
 ],
 "metadata": {
  "kernelspec": {
   "display_name": "env",
   "language": "python",
   "name": "python3"
  },
  "language_info": {
   "codemirror_mode": {
    "name": "ipython",
    "version": 3
   },
   "file_extension": ".py",
   "mimetype": "text/x-python",
   "name": "python",
   "nbconvert_exporter": "python",
   "pygments_lexer": "ipython3",
   "version": "3.10.12"
  }
 },
 "nbformat": 4,
 "nbformat_minor": 2
}
