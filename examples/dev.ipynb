{
 "cells": [
  {
   "cell_type": "code",
   "execution_count": 1,
   "metadata": {},
   "outputs": [],
   "source": [
    "import cira \n",
    "\n",
    "cira.auth.KEY_FILE = \"../../alpc_key.json\"\n",
    "assert cira.auth.check_keys(), \"the set keys dose not work\""
   ]
  },
  {
   "cell_type": "code",
   "execution_count": 2,
   "metadata": {},
   "outputs": [
    {
     "data": {
      "text/plain": [
       "0.0"
      ]
     },
     "execution_count": 2,
     "metadata": {},
     "output_type": "execute_result"
    }
   ],
   "source": [
    "SYMBOL = \"JRS\" # UPWK is shortable \n",
    "ast = cira.Stock(SYMBOL)\n",
    "ast.price()"
   ]
  },
  {
   "cell_type": "code",
   "execution_count": 5,
   "metadata": {},
   "outputs": [
    {
     "data": {
      "text/html": [
       "<div>\n",
       "<style scoped>\n",
       "    .dataframe tbody tr th:only-of-type {\n",
       "        vertical-align: middle;\n",
       "    }\n",
       "\n",
       "    .dataframe tbody tr th {\n",
       "        vertical-align: top;\n",
       "    }\n",
       "\n",
       "    .dataframe thead th {\n",
       "        text-align: right;\n",
       "    }\n",
       "</style>\n",
       "<table border=\"1\" class=\"dataframe\">\n",
       "  <thead>\n",
       "    <tr style=\"text-align: right;\">\n",
       "      <th></th>\n",
       "      <th>symbol</th>\n",
       "      <th>open</th>\n",
       "      <th>high</th>\n",
       "      <th>low</th>\n",
       "      <th>close</th>\n",
       "      <th>volume</th>\n",
       "      <th>trade_count</th>\n",
       "      <th>vwap</th>\n",
       "    </tr>\n",
       "    <tr>\n",
       "      <th>timestamp</th>\n",
       "      <th></th>\n",
       "      <th></th>\n",
       "      <th></th>\n",
       "      <th></th>\n",
       "      <th></th>\n",
       "      <th></th>\n",
       "      <th></th>\n",
       "      <th></th>\n",
       "    </tr>\n",
       "  </thead>\n",
       "  <tbody>\n",
       "    <tr>\n",
       "      <th>2022-01-03 05:00:00+00:00</th>\n",
       "      <td>JRS</td>\n",
       "      <td>10.070</td>\n",
       "      <td>10.100</td>\n",
       "      <td>9.885</td>\n",
       "      <td>10.030</td>\n",
       "      <td>105798.0</td>\n",
       "      <td>577.0</td>\n",
       "      <td>9.997</td>\n",
       "    </tr>\n",
       "    <tr>\n",
       "      <th>2022-01-04 05:00:00+00:00</th>\n",
       "      <td>JRS</td>\n",
       "      <td>10.020</td>\n",
       "      <td>10.030</td>\n",
       "      <td>9.908</td>\n",
       "      <td>10.030</td>\n",
       "      <td>98169.0</td>\n",
       "      <td>480.0</td>\n",
       "      <td>9.988</td>\n",
       "    </tr>\n",
       "    <tr>\n",
       "      <th>2022-01-05 05:00:00+00:00</th>\n",
       "      <td>JRS</td>\n",
       "      <td>9.987</td>\n",
       "      <td>9.987</td>\n",
       "      <td>9.696</td>\n",
       "      <td>9.783</td>\n",
       "      <td>112471.0</td>\n",
       "      <td>598.0</td>\n",
       "      <td>9.859</td>\n",
       "    </tr>\n",
       "    <tr>\n",
       "      <th>2022-01-06 05:00:00+00:00</th>\n",
       "      <td>JRS</td>\n",
       "      <td>9.759</td>\n",
       "      <td>9.806</td>\n",
       "      <td>9.642</td>\n",
       "      <td>9.806</td>\n",
       "      <td>182573.0</td>\n",
       "      <td>563.0</td>\n",
       "      <td>9.751</td>\n",
       "    </tr>\n",
       "    <tr>\n",
       "      <th>2022-01-07 05:00:00+00:00</th>\n",
       "      <td>JRS</td>\n",
       "      <td>9.846</td>\n",
       "      <td>9.869</td>\n",
       "      <td>9.767</td>\n",
       "      <td>9.806</td>\n",
       "      <td>68172.0</td>\n",
       "      <td>213.0</td>\n",
       "      <td>9.819</td>\n",
       "    </tr>\n",
       "  </tbody>\n",
       "</table>\n",
       "</div>"
      ],
      "text/plain": [
       "                          symbol    open    high    low   close    volume  \\\n",
       "timestamp                                                                   \n",
       "2022-01-03 05:00:00+00:00    JRS  10.070  10.100  9.885  10.030  105798.0   \n",
       "2022-01-04 05:00:00+00:00    JRS  10.020  10.030  9.908  10.030   98169.0   \n",
       "2022-01-05 05:00:00+00:00    JRS   9.987   9.987  9.696   9.783  112471.0   \n",
       "2022-01-06 05:00:00+00:00    JRS   9.759   9.806  9.642   9.806  182573.0   \n",
       "2022-01-07 05:00:00+00:00    JRS   9.846   9.869  9.767   9.806   68172.0   \n",
       "\n",
       "                           trade_count   vwap  \n",
       "timestamp                                      \n",
       "2022-01-03 05:00:00+00:00        577.0  9.997  \n",
       "2022-01-04 05:00:00+00:00        480.0  9.988  \n",
       "2022-01-05 05:00:00+00:00        598.0  9.859  \n",
       "2022-01-06 05:00:00+00:00        563.0  9.751  \n",
       "2022-01-07 05:00:00+00:00        213.0  9.819  "
      ]
     },
     "execution_count": 5,
     "metadata": {},
     "output_type": "execute_result"
    }
   ],
   "source": [
    "from datetime import datetime\n",
    "ast = cira.Stock(\"JRS\")\n",
    "data = ast.historical_data_df(datetime(2022,1,1), datetime.now())\n",
    "data.head()"
   ]
  },
  {
   "cell_type": "code",
   "execution_count": 4,
   "metadata": {},
   "outputs": [
    {
     "name": "stderr",
     "output_type": "stream",
     "text": [
      "/Users/axel/Programs/repositories/cira/cira/asset_stock.py:59: UserWarning: tryied to short JRS, but alpaca markets dose not allow for short position in JRS\n",
      "  warnings.warn(\n"
     ]
    }
   ],
   "source": []
  },
  {
   "cell_type": "code",
   "execution_count": null,
   "metadata": {},
   "outputs": [],
   "source": []
  }
 ],
 "metadata": {
  "kernelspec": {
   "display_name": "env",
   "language": "python",
   "name": "python3"
  },
  "language_info": {
   "codemirror_mode": {
    "name": "ipython",
    "version": 3
   },
   "file_extension": ".py",
   "mimetype": "text/x-python",
   "name": "python",
   "nbconvert_exporter": "python",
   "pygments_lexer": "ipython3",
   "version": "3.9.6"
  }
 },
 "nbformat": 4,
 "nbformat_minor": 2
}
