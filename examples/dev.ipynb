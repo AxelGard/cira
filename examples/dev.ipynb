{
 "cells": [
  {
   "cell_type": "code",
   "execution_count": 1,
   "metadata": {},
   "outputs": [],
   "source": [
    "import cira \n",
    "\n",
    "cira.auth.KEY_FILE = \"../../alpc_key.json\"\n",
    "assert cira.auth.check_keys(), \"the set keys dose not work\""
   ]
  },
  {
   "cell_type": "code",
   "execution_count": 2,
   "metadata": {},
   "outputs": [
    {
     "data": {
      "text/plain": [
       "7.67"
      ]
     },
     "execution_count": 2,
     "metadata": {},
     "output_type": "execute_result"
    }
   ],
   "source": [
    "SYMBOL = \"JRS\" # UPWK is shortable \n",
    "ast = cira.Stock(SYMBOL)\n",
    "ast.price()"
   ]
  },
  {
   "cell_type": "code",
   "execution_count": 3,
   "metadata": {},
   "outputs": [
    {
     "data": {
      "text/html": [
       "<div>\n",
       "<style scoped>\n",
       "    .dataframe tbody tr th:only-of-type {\n",
       "        vertical-align: middle;\n",
       "    }\n",
       "\n",
       "    .dataframe tbody tr th {\n",
       "        vertical-align: top;\n",
       "    }\n",
       "\n",
       "    .dataframe thead th {\n",
       "        text-align: right;\n",
       "    }\n",
       "</style>\n",
       "<table border=\"1\" class=\"dataframe\">\n",
       "  <thead>\n",
       "    <tr style=\"text-align: right;\">\n",
       "      <th></th>\n",
       "      <th>symbol</th>\n",
       "      <th>open</th>\n",
       "      <th>high</th>\n",
       "      <th>low</th>\n",
       "      <th>close</th>\n",
       "      <th>volume</th>\n",
       "      <th>trade_count</th>\n",
       "      <th>vwap</th>\n",
       "    </tr>\n",
       "    <tr>\n",
       "      <th>timestamp</th>\n",
       "      <th></th>\n",
       "      <th></th>\n",
       "      <th></th>\n",
       "      <th></th>\n",
       "      <th></th>\n",
       "      <th></th>\n",
       "      <th></th>\n",
       "      <th></th>\n",
       "    </tr>\n",
       "  </thead>\n",
       "  <tbody>\n",
       "    <tr>\n",
       "      <th>2022-01-03 05:00:00+00:00</th>\n",
       "      <td>JRS</td>\n",
       "      <td>10.26</td>\n",
       "      <td>10.290</td>\n",
       "      <td>10.070</td>\n",
       "      <td>10.220</td>\n",
       "      <td>105798.0</td>\n",
       "      <td>577.0</td>\n",
       "      <td>10.180</td>\n",
       "    </tr>\n",
       "    <tr>\n",
       "      <th>2022-01-04 05:00:00+00:00</th>\n",
       "      <td>JRS</td>\n",
       "      <td>10.20</td>\n",
       "      <td>10.220</td>\n",
       "      <td>10.090</td>\n",
       "      <td>10.210</td>\n",
       "      <td>98169.0</td>\n",
       "      <td>480.0</td>\n",
       "      <td>10.170</td>\n",
       "    </tr>\n",
       "    <tr>\n",
       "      <th>2022-01-05 05:00:00+00:00</th>\n",
       "      <td>JRS</td>\n",
       "      <td>10.17</td>\n",
       "      <td>10.170</td>\n",
       "      <td>9.876</td>\n",
       "      <td>9.964</td>\n",
       "      <td>112471.0</td>\n",
       "      <td>598.0</td>\n",
       "      <td>10.040</td>\n",
       "    </tr>\n",
       "    <tr>\n",
       "      <th>2022-01-06 05:00:00+00:00</th>\n",
       "      <td>JRS</td>\n",
       "      <td>9.94</td>\n",
       "      <td>9.988</td>\n",
       "      <td>9.820</td>\n",
       "      <td>9.988</td>\n",
       "      <td>182573.0</td>\n",
       "      <td>563.0</td>\n",
       "      <td>9.932</td>\n",
       "    </tr>\n",
       "    <tr>\n",
       "      <th>2022-01-07 05:00:00+00:00</th>\n",
       "      <td>JRS</td>\n",
       "      <td>10.03</td>\n",
       "      <td>10.050</td>\n",
       "      <td>9.948</td>\n",
       "      <td>9.988</td>\n",
       "      <td>68172.0</td>\n",
       "      <td>213.0</td>\n",
       "      <td>10.000</td>\n",
       "    </tr>\n",
       "  </tbody>\n",
       "</table>\n",
       "</div>"
      ],
      "text/plain": [
       "                          symbol   open    high     low   close    volume  \\\n",
       "timestamp                                                                   \n",
       "2022-01-03 05:00:00+00:00    JRS  10.26  10.290  10.070  10.220  105798.0   \n",
       "2022-01-04 05:00:00+00:00    JRS  10.20  10.220  10.090  10.210   98169.0   \n",
       "2022-01-05 05:00:00+00:00    JRS  10.17  10.170   9.876   9.964  112471.0   \n",
       "2022-01-06 05:00:00+00:00    JRS   9.94   9.988   9.820   9.988  182573.0   \n",
       "2022-01-07 05:00:00+00:00    JRS  10.03  10.050   9.948   9.988   68172.0   \n",
       "\n",
       "                           trade_count    vwap  \n",
       "timestamp                                       \n",
       "2022-01-03 05:00:00+00:00        577.0  10.180  \n",
       "2022-01-04 05:00:00+00:00        480.0  10.170  \n",
       "2022-01-05 05:00:00+00:00        598.0  10.040  \n",
       "2022-01-06 05:00:00+00:00        563.0   9.932  \n",
       "2022-01-07 05:00:00+00:00        213.0  10.000  "
      ]
     },
     "execution_count": 3,
     "metadata": {},
     "output_type": "execute_result"
    }
   ],
   "source": [
    "from datetime import datetime\n",
    "ast = cira.Stock(\"JRS\")\n",
    "data = ast.historical_data_df(datetime(2022,1,1).date(), datetime.now().date())\n",
    "data.head()"
   ]
  },
  {
   "cell_type": "code",
   "execution_count": 4,
   "metadata": {},
   "outputs": [
    {
     "name": "stdout",
     "output_type": "stream",
     "text": [
      "None\n"
     ]
    }
   ],
   "source": [
    "ast = cira.Stock(\"JRS\")\n",
    "ast.short(1)"
   ]
  },
  {
   "cell_type": "code",
   "execution_count": null,
   "metadata": {},
   "outputs": [],
   "source": []
  }
 ],
 "metadata": {
  "kernelspec": {
   "display_name": "env",
   "language": "python",
   "name": "python3"
  },
  "language_info": {
   "codemirror_mode": {
    "name": "ipython",
    "version": 3
   },
   "file_extension": ".py",
   "mimetype": "text/x-python",
   "name": "python",
   "nbconvert_exporter": "python",
   "pygments_lexer": "ipython3",
   "version": "3.10.12"
  }
 },
 "nbformat": 4,
 "nbformat_minor": 2
}
