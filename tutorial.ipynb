{
 "cells": [
  {
   "cell_type": "markdown",
   "metadata": {},
   "source": [
    "# Cira tutorial"
   ]
  },
  {
   "cell_type": "markdown",
   "metadata": {},
   "source": [
    "Cira algorithmic trading made easy. A Façade library for simpler interaction with alpaca-trade-API from Alpaca Markets."
   ]
  },
  {
   "cell_type": "code",
   "execution_count": 1,
   "metadata": {},
   "outputs": [],
   "source": [
    "import cira"
   ]
  },
  {
   "cell_type": "code",
   "execution_count": 2,
   "metadata": {},
   "outputs": [],
   "source": [
    "import time"
   ]
  },
  {
   "cell_type": "markdown",
   "metadata": {},
   "source": [
    "You need to make cira needs the alpaca key, you can do this is [some different ways](https://github.com/AxelGard/cira/wiki/Storing-the-Alpaca-API-key)"
   ]
  },
  {
   "cell_type": "code",
   "execution_count": 3,
   "metadata": {},
   "outputs": [],
   "source": [
    "cira.auth.KEY_FILE = \"../alpc_key.json\"\n",
    "\n",
    "# Alternately: \n",
    "# cira.auth.APCA_API_KEY_ID = \"your_pub_key\"\n",
    "# cira.auth.APCA_API_SECRET_KEY = \"your_private_key\"\n",
    "\n",
    "\n",
    "assert cira.auth.check_keys(), \"the set keys dose not work\""
   ]
  },
  {
   "cell_type": "markdown",
   "metadata": {},
   "source": [
    "## Cira have some base classes that you can use\n",
    "\n",
    "(there is also a sub package for building strategies)"
   ]
  },
  {
   "cell_type": "code",
   "execution_count": 4,
   "metadata": {},
   "outputs": [],
   "source": [
    "stk = cira.Stock(\"SPY\")\n",
    "portfolio = cira.Portfolio()\n",
    "exchange = cira.Exchange()"
   ]
  },
  {
   "cell_type": "markdown",
   "metadata": {},
   "source": [
    "### Stock class "
   ]
  },
  {
   "cell_type": "code",
   "execution_count": 5,
   "metadata": {},
   "outputs": [
    {
     "name": "stdout",
     "output_type": "stream",
     "text": [
      "TSLA 0.0 $\n"
     ]
    }
   ],
   "source": [
    "stk = cira.Stock(\"TSLA\")\n",
    "print(stk, stk.price(), \"$\")"
   ]
  },
  {
   "cell_type": "code",
   "execution_count": 6,
   "metadata": {},
   "outputs": [],
   "source": [
    "if exchange.is_open():\n",
    "    stk.buy(1) # this is how you buy 1 of the stock \n",
    "    time.sleep(2)\n",
    "    stk.sell(1)"
   ]
  },
  {
   "cell_type": "code",
   "execution_count": 7,
   "metadata": {},
   "outputs": [
    {
     "data": {
      "text/plain": [
       "[{'symbol': 'TSLA',\n",
       "  'timestamp': datetime.datetime(2023, 7, 10, 4, 0, tzinfo=datetime.timezone.utc),\n",
       "  'open': 276.4699,\n",
       "  'high': 277.52,\n",
       "  'low': 265.1,\n",
       "  'close': 269.61,\n",
       "  'volume': 119425818.0,\n",
       "  'trade_count': 1360795.0,\n",
       "  'vwap': 269.979196},\n",
       " {'symbol': 'TSLA',\n",
       "  'timestamp': datetime.datetime(2023, 7, 11, 4, 0, tzinfo=datetime.timezone.utc),\n",
       "  'open': 268.65,\n",
       "  'high': 270.9,\n",
       "  'low': 266.37,\n",
       "  'close': 269.79,\n",
       "  'volume': 92050422.0,\n",
       "  'trade_count': 1024518.0,\n",
       "  'vwap': 268.530783}]"
      ]
     },
     "execution_count": 7,
     "metadata": {},
     "output_type": "execute_result"
    }
   ],
   "source": [
    "from datetime import datetime\n",
    "start = datetime(2023, 7, 10)\n",
    "end = datetime(2023, 7, 12)\n",
    "stk.historical_data(start_date=start, end_date=end)"
   ]
  },
  {
   "cell_type": "code",
   "execution_count": 8,
   "metadata": {},
   "outputs": [
    {
     "data": {
      "text/html": [
       "<div>\n",
       "<style scoped>\n",
       "    .dataframe tbody tr th:only-of-type {\n",
       "        vertical-align: middle;\n",
       "    }\n",
       "\n",
       "    .dataframe tbody tr th {\n",
       "        vertical-align: top;\n",
       "    }\n",
       "\n",
       "    .dataframe thead th {\n",
       "        text-align: right;\n",
       "    }\n",
       "</style>\n",
       "<table border=\"1\" class=\"dataframe\">\n",
       "  <thead>\n",
       "    <tr style=\"text-align: right;\">\n",
       "      <th></th>\n",
       "      <th>symbol</th>\n",
       "      <th>open</th>\n",
       "      <th>high</th>\n",
       "      <th>low</th>\n",
       "      <th>close</th>\n",
       "      <th>volume</th>\n",
       "      <th>trade_count</th>\n",
       "      <th>vwap</th>\n",
       "    </tr>\n",
       "    <tr>\n",
       "      <th>timestamp</th>\n",
       "      <th></th>\n",
       "      <th></th>\n",
       "      <th></th>\n",
       "      <th></th>\n",
       "      <th></th>\n",
       "      <th></th>\n",
       "      <th></th>\n",
       "      <th></th>\n",
       "    </tr>\n",
       "  </thead>\n",
       "  <tbody>\n",
       "    <tr>\n",
       "      <th>2023-07-10 04:00:00+00:00</th>\n",
       "      <td>TSLA</td>\n",
       "      <td>276.4699</td>\n",
       "      <td>277.52</td>\n",
       "      <td>265.10</td>\n",
       "      <td>269.61</td>\n",
       "      <td>119425818.0</td>\n",
       "      <td>1360795.0</td>\n",
       "      <td>269.979196</td>\n",
       "    </tr>\n",
       "    <tr>\n",
       "      <th>2023-07-11 04:00:00+00:00</th>\n",
       "      <td>TSLA</td>\n",
       "      <td>268.6500</td>\n",
       "      <td>270.90</td>\n",
       "      <td>266.37</td>\n",
       "      <td>269.79</td>\n",
       "      <td>92050422.0</td>\n",
       "      <td>1024518.0</td>\n",
       "      <td>268.530783</td>\n",
       "    </tr>\n",
       "  </tbody>\n",
       "</table>\n",
       "</div>"
      ],
      "text/plain": [
       "                          symbol      open    high     low   close  \\\n",
       "timestamp                                                            \n",
       "2023-07-10 04:00:00+00:00   TSLA  276.4699  277.52  265.10  269.61   \n",
       "2023-07-11 04:00:00+00:00   TSLA  268.6500  270.90  266.37  269.79   \n",
       "\n",
       "                                volume  trade_count        vwap  \n",
       "timestamp                                                        \n",
       "2023-07-10 04:00:00+00:00  119425818.0    1360795.0  269.979196  \n",
       "2023-07-11 04:00:00+00:00   92050422.0    1024518.0  268.530783  "
      ]
     },
     "execution_count": 8,
     "metadata": {},
     "output_type": "execute_result"
    }
   ],
   "source": [
    "# or in a pandas data frame \n",
    "stk.historical_data_df(start_date=start, end_date=end)"
   ]
  },
  {
   "cell_type": "markdown",
   "metadata": {},
   "source": [
    "### Portfolio class "
   ]
  },
  {
   "cell_type": "code",
   "execution_count": 9,
   "metadata": {},
   "outputs": [],
   "source": [
    "portfolio = cira.Portfolio()"
   ]
  },
  {
   "cell_type": "code",
   "execution_count": 10,
   "metadata": {},
   "outputs": [
    {
     "name": "stdout",
     "output_type": "stream",
     "text": [
      "95683.64 $\n"
     ]
    }
   ],
   "source": [
    "print(portfolio.cash(), \"$\")"
   ]
  },
  {
   "cell_type": "code",
   "execution_count": 11,
   "metadata": {},
   "outputs": [
    {
     "name": "stdout",
     "output_type": "stream",
     "text": [
      "[MSFT, PYPL]\n"
     ]
    },
    {
     "data": {
      "text/plain": [
       "3823.9212"
      ]
     },
     "execution_count": 11,
     "metadata": {},
     "output_type": "execute_result"
    }
   ],
   "source": [
    "print(portfolio.all_positions())\n",
    "portfolio.all_positions()[0].market_value()"
   ]
  },
  {
   "cell_type": "markdown",
   "metadata": {},
   "source": [
    "### Exchange class "
   ]
  },
  {
   "cell_type": "code",
   "execution_count": 12,
   "metadata": {},
   "outputs": [],
   "source": [
    "exchange = cira.Exchange()"
   ]
  },
  {
   "cell_type": "code",
   "execution_count": 13,
   "metadata": {},
   "outputs": [
    {
     "data": {
      "text/plain": [
       "False"
      ]
     },
     "execution_count": 13,
     "metadata": {},
     "output_type": "execute_result"
    }
   ],
   "source": [
    "exchange.is_open()"
   ]
  },
  {
   "cell_type": "code",
   "execution_count": 21,
   "metadata": {},
   "outputs": [
    {
     "data": {
      "text/plain": [
       "0.0"
      ]
     },
     "execution_count": 21,
     "metadata": {},
     "output_type": "execute_result"
    }
   ],
   "source": [
    "l = exchange.to_assets([\"AMZN\", \"TSLA\"])\n",
    "l[0].price()"
   ]
  },
  {
   "cell_type": "code",
   "execution_count": null,
   "metadata": {},
   "outputs": [],
   "source": []
  }
 ],
 "metadata": {
  "kernelspec": {
   "display_name": "env",
   "language": "python",
   "name": "python3"
  },
  "language_info": {
   "codemirror_mode": {
    "name": "ipython",
    "version": 3
   },
   "file_extension": ".py",
   "mimetype": "text/x-python",
   "name": "python",
   "nbconvert_exporter": "python",
   "pygments_lexer": "ipython3",
   "version": "3.8.10"
  },
  "orig_nbformat": 4
 },
 "nbformat": 4,
 "nbformat_minor": 2
}
