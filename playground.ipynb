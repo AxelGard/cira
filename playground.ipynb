{
 "cells": [
  {
   "cell_type": "markdown",
   "metadata": {},
   "source": [
    "# Cira playground"
   ]
  },
  {
   "cell_type": "code",
   "execution_count": 1,
   "metadata": {},
   "outputs": [],
   "source": [
    "import cira"
   ]
  },
  {
   "cell_type": "code",
   "execution_count": 2,
   "metadata": {},
   "outputs": [],
   "source": [
    "cira.auth.KEY_FILE = \"../alpc_key.json\"\n",
    "\n",
    "assert cira.auth.check_keys(), \"the set keys dose not work\""
   ]
  },
  {
   "cell_type": "code",
   "execution_count": 3,
   "metadata": {},
   "outputs": [
    {
     "ename": "TypeError",
     "evalue": "'bool' object is not callable",
     "output_type": "error",
     "traceback": [
      "\u001b[0;31m---------------------------------------------------------------------------\u001b[0m",
      "\u001b[0;31mTypeError\u001b[0m                                 Traceback (most recent call last)",
      "Cell \u001b[0;32mIn[3], line 1\u001b[0m\n\u001b[0;32m----> 1\u001b[0m portfolio \u001b[39m=\u001b[39m cira\u001b[39m.\u001b[39;49mPortfolio()\n\u001b[1;32m      2\u001b[0m exchange \u001b[39m=\u001b[39m cira\u001b[39m.\u001b[39mExchange()\n",
      "File \u001b[0;32m~/Programs/repositories/cira/cira/portfolio.py:49\u001b[0m, in \u001b[0;36mPortfolio.__init__\u001b[0;34m(self)\u001b[0m\n\u001b[1;32m     46\u001b[0m \u001b[39mself\u001b[39m\u001b[39m.\u001b[39mpositions:List[Position] \u001b[39m=\u001b[39m []\n\u001b[1;32m     47\u001b[0m \u001b[39mself\u001b[39m\u001b[39m.\u001b[39maccount\u001b[39m.\u001b[39mcrypto_status\n\u001b[0;32m---> 49\u001b[0m \u001b[39massert\u001b[39;00m \u001b[39mnot\u001b[39;00m \u001b[39mself\u001b[39;49m\u001b[39m.\u001b[39;49mis_blocked(), \u001b[39m\"\u001b[39m\u001b[39mAccount is blocked\u001b[39m\u001b[39m\"\u001b[39m\n",
      "File \u001b[0;32m~/Programs/repositories/cira/cira/portfolio.py:54\u001b[0m, in \u001b[0;36mPortfolio.is_blocked\u001b[0;34m(self)\u001b[0m\n\u001b[1;32m     53\u001b[0m \u001b[39mdef\u001b[39;00m \u001b[39mis_blocked\u001b[39m(\u001b[39mself\u001b[39m) \u001b[39m-\u001b[39m\u001b[39m>\u001b[39m \u001b[39mbool\u001b[39m:\n\u001b[0;32m---> 54\u001b[0m     \u001b[39mreturn\u001b[39;00m \u001b[39mself\u001b[39;49m\u001b[39m.\u001b[39;49maccount\u001b[39m.\u001b[39;49maccount_blocked()\n",
      "\u001b[0;31mTypeError\u001b[0m: 'bool' object is not callable"
     ]
    }
   ],
   "source": [
    "portfolio = cira.Portfolio()\n",
    "exchange = cira.Exchange()"
   ]
  },
  {
   "cell_type": "code",
   "execution_count": null,
   "metadata": {},
   "outputs": [
    {
     "name": "stdout",
     "output_type": "stream",
     "text": [
      "BTC/USD 0.0\n",
      "SPY 456.45\n"
     ]
    }
   ],
   "source": [
    "cry = cira.Cryptocurrency(\"BTC/USD\")    \n",
    "print(cry,cry.current_price())\n",
    "\n",
    "spy = cira.Stock(\"SPY\")\n",
    "print(spy, spy.current_price())"
   ]
  },
  {
   "cell_type": "code",
   "execution_count": null,
   "metadata": {},
   "outputs": [
    {
     "name": "stdout",
     "output_type": "stream",
     "text": [
      "17597.6\n",
      "GOOGL 1360\n"
     ]
    }
   ],
   "source": [
    "print(portfolio.cash())\n",
    "pos = cira.Position(\"GOOGL\")\n",
    "print(pos, pos.quantity())"
   ]
  },
  {
   "cell_type": "code",
   "execution_count": null,
   "metadata": {},
   "outputs": [],
   "source": [
    "#exchange.get_all_stocks()[:5] # is cached but will do request first time "
   ]
  },
  {
   "cell_type": "code",
   "execution_count": null,
   "metadata": {},
   "outputs": [
    {
     "data": {
      "text/html": [
       "<div>\n",
       "<style scoped>\n",
       "    .dataframe tbody tr th:only-of-type {\n",
       "        vertical-align: middle;\n",
       "    }\n",
       "\n",
       "    .dataframe tbody tr th {\n",
       "        vertical-align: top;\n",
       "    }\n",
       "\n",
       "    .dataframe thead th {\n",
       "        text-align: right;\n",
       "    }\n",
       "</style>\n",
       "<table border=\"1\" class=\"dataframe\">\n",
       "  <thead>\n",
       "    <tr style=\"text-align: right;\">\n",
       "      <th></th>\n",
       "      <th></th>\n",
       "      <th>open</th>\n",
       "      <th>high</th>\n",
       "      <th>low</th>\n",
       "      <th>close</th>\n",
       "      <th>volume</th>\n",
       "      <th>trade_count</th>\n",
       "      <th>vwap</th>\n",
       "    </tr>\n",
       "    <tr>\n",
       "      <th>symbol</th>\n",
       "      <th>timestamp</th>\n",
       "      <th></th>\n",
       "      <th></th>\n",
       "      <th></th>\n",
       "      <th></th>\n",
       "      <th></th>\n",
       "      <th></th>\n",
       "      <th></th>\n",
       "    </tr>\n",
       "  </thead>\n",
       "  <tbody>\n",
       "    <tr>\n",
       "      <th rowspan=\"5\" valign=\"top\">SPY</th>\n",
       "      <th>2022-07-01 04:00:00+00:00</th>\n",
       "      <td>376.56</td>\n",
       "      <td>381.70</td>\n",
       "      <td>373.800</td>\n",
       "      <td>381.24</td>\n",
       "      <td>74084447.0</td>\n",
       "      <td>600889.0</td>\n",
       "      <td>378.221933</td>\n",
       "    </tr>\n",
       "    <tr>\n",
       "      <th>2022-07-05 04:00:00+00:00</th>\n",
       "      <td>375.88</td>\n",
       "      <td>381.98</td>\n",
       "      <td>372.900</td>\n",
       "      <td>381.96</td>\n",
       "      <td>79886359.0</td>\n",
       "      <td>645355.0</td>\n",
       "      <td>377.447571</td>\n",
       "    </tr>\n",
       "    <tr>\n",
       "      <th>2022-07-06 04:00:00+00:00</th>\n",
       "      <td>382.11</td>\n",
       "      <td>385.87</td>\n",
       "      <td>379.600</td>\n",
       "      <td>383.25</td>\n",
       "      <td>69842806.0</td>\n",
       "      <td>614418.0</td>\n",
       "      <td>382.508246</td>\n",
       "    </tr>\n",
       "    <tr>\n",
       "      <th>2022-07-07 04:00:00+00:00</th>\n",
       "      <td>385.12</td>\n",
       "      <td>389.83</td>\n",
       "      <td>383.267</td>\n",
       "      <td>388.99</td>\n",
       "      <td>64172156.0</td>\n",
       "      <td>467708.0</td>\n",
       "      <td>387.621834</td>\n",
       "    </tr>\n",
       "    <tr>\n",
       "      <th>2022-07-08 04:00:00+00:00</th>\n",
       "      <td>387.27</td>\n",
       "      <td>390.64</td>\n",
       "      <td>385.660</td>\n",
       "      <td>388.67</td>\n",
       "      <td>71954884.0</td>\n",
       "      <td>509773.0</td>\n",
       "      <td>388.651531</td>\n",
       "    </tr>\n",
       "  </tbody>\n",
       "</table>\n",
       "</div>"
      ],
      "text/plain": [
       "                                    open    high      low   close      volume  \\\n",
       "symbol timestamp                                                                \n",
       "SPY    2022-07-01 04:00:00+00:00  376.56  381.70  373.800  381.24  74084447.0   \n",
       "       2022-07-05 04:00:00+00:00  375.88  381.98  372.900  381.96  79886359.0   \n",
       "       2022-07-06 04:00:00+00:00  382.11  385.87  379.600  383.25  69842806.0   \n",
       "       2022-07-07 04:00:00+00:00  385.12  389.83  383.267  388.99  64172156.0   \n",
       "       2022-07-08 04:00:00+00:00  387.27  390.64  385.660  388.67  71954884.0   \n",
       "\n",
       "                                  trade_count        vwap  \n",
       "symbol timestamp                                           \n",
       "SPY    2022-07-01 04:00:00+00:00     600889.0  378.221933  \n",
       "       2022-07-05 04:00:00+00:00     645355.0  377.447571  \n",
       "       2022-07-06 04:00:00+00:00     614418.0  382.508246  \n",
       "       2022-07-07 04:00:00+00:00     467708.0  387.621834  \n",
       "       2022-07-08 04:00:00+00:00     509773.0  388.651531  "
      ]
     },
     "execution_count": 9,
     "metadata": {},
     "output_type": "execute_result"
    }
   ],
   "source": [
    "from datetime import datetime\n",
    "\n",
    "start = datetime(2022, 7, 1)\n",
    "end = datetime(2022, 7, 10)\n",
    "spy.historical_data_df(start, end).head()"
   ]
  },
  {
   "cell_type": "code",
   "execution_count": null,
   "metadata": {},
   "outputs": [
    {
     "data": {
      "text/plain": [
       "False"
      ]
     },
     "execution_count": 8,
     "metadata": {},
     "output_type": "execute_result"
    }
   ],
   "source": [
    "exchange.is_open()"
   ]
  },
  {
   "cell_type": "code",
   "execution_count": null,
   "metadata": {},
   "outputs": [
    {
     "ename": "AttributeError",
     "evalue": "'Portfolio' object has no attribute 'buying_power'",
     "output_type": "error",
     "traceback": [
      "\u001b[0;31m---------------------------------------------------------------------------\u001b[0m",
      "\u001b[0;31mAttributeError\u001b[0m                            Traceback (most recent call last)",
      "Cell \u001b[0;32mIn[12], line 1\u001b[0m\n\u001b[0;32m----> 1\u001b[0m portfolio\u001b[39m.\u001b[39;49mbuying_power()\n",
      "\u001b[0;31mAttributeError\u001b[0m: 'Portfolio' object has no attribute 'buying_power'"
     ]
    }
   ],
   "source": [
    "portfolio.buying_power()"
   ]
  },
  {
   "cell_type": "code",
   "execution_count": null,
   "metadata": {},
   "outputs": [],
   "source": []
  }
 ],
 "metadata": {
  "kernelspec": {
   "display_name": "env",
   "language": "python",
   "name": "python3"
  },
  "language_info": {
   "codemirror_mode": {
    "name": "ipython",
    "version": 3
   },
   "file_extension": ".py",
   "mimetype": "text/x-python",
   "name": "python",
   "nbconvert_exporter": "python",
   "pygments_lexer": "ipython3",
   "version": "3.8.10"
  },
  "orig_nbformat": 4
 },
 "nbformat": 4,
 "nbformat_minor": 2
}
