{
 "cells": [
  {
   "cell_type": "markdown",
   "metadata": {},
   "source": [
    "# Cira playground"
   ]
  },
  {
   "cell_type": "code",
   "execution_count": 1,
   "metadata": {},
   "outputs": [],
   "source": [
    "import cira"
   ]
  },
  {
   "cell_type": "code",
   "execution_count": 2,
   "metadata": {},
   "outputs": [],
   "source": [
    "cira.auth.KEY_FILE = \"../alpc_key.json\"\n",
    "\n",
    "assert cira.auth.check_keys(), \"the set keys dose not work\""
   ]
  },
  {
   "cell_type": "code",
   "execution_count": 3,
   "metadata": {},
   "outputs": [],
   "source": [
    "portfolio = cira.Portfolio()\n",
    "stock_exchange = cira.StockExchange()\n",
    "crypto_exchange = cira.StockExchange()"
   ]
  },
  {
   "cell_type": "code",
   "execution_count": 4,
   "metadata": {},
   "outputs": [
    {
     "name": "stdout",
     "output_type": "stream",
     "text": [
      "ETH/USD 0.0\n",
      "SPY 456.95\n"
     ]
    }
   ],
   "source": [
    "cry = cira.Cryptocurrency(\"ETH/USD\")    \n",
    "print(cry,cry.current_price())\n",
    "\n",
    "spy = cira.Stock(\"SPY\")\n",
    "print(spy, spy.current_price())"
   ]
  },
  {
   "cell_type": "code",
   "execution_count": 5,
   "metadata": {},
   "outputs": [
    {
     "name": "stdout",
     "output_type": "stream",
     "text": [
      "17597.6\n",
      "GOOGL 1360\n"
     ]
    }
   ],
   "source": [
    "print(portfolio.cash())\n",
    "pos = cira.Position(\"GOOGL\")\n",
    "print(pos, pos.quantity())"
   ]
  },
  {
   "cell_type": "markdown",
   "metadata": {},
   "source": [
    "## ML example "
   ]
  },
  {
   "cell_type": "code",
   "execution_count": 14,
   "metadata": {},
   "outputs": [
    {
     "data": {
      "text/html": [
       "<div>\n",
       "<style scoped>\n",
       "    .dataframe tbody tr th:only-of-type {\n",
       "        vertical-align: middle;\n",
       "    }\n",
       "\n",
       "    .dataframe tbody tr th {\n",
       "        vertical-align: top;\n",
       "    }\n",
       "\n",
       "    .dataframe thead th {\n",
       "        text-align: right;\n",
       "    }\n",
       "</style>\n",
       "<table border=\"1\" class=\"dataframe\">\n",
       "  <thead>\n",
       "    <tr style=\"text-align: right;\">\n",
       "      <th></th>\n",
       "      <th></th>\n",
       "      <th>open</th>\n",
       "      <th>high</th>\n",
       "      <th>low</th>\n",
       "      <th>close</th>\n",
       "      <th>volume</th>\n",
       "      <th>trade_count</th>\n",
       "      <th>vwap</th>\n",
       "    </tr>\n",
       "    <tr>\n",
       "      <th>symbol</th>\n",
       "      <th>timestamp</th>\n",
       "      <th></th>\n",
       "      <th></th>\n",
       "      <th></th>\n",
       "      <th></th>\n",
       "      <th></th>\n",
       "      <th></th>\n",
       "      <th></th>\n",
       "    </tr>\n",
       "  </thead>\n",
       "  <tbody>\n",
       "    <tr>\n",
       "      <th rowspan=\"5\" valign=\"top\">ETH/USD</th>\n",
       "      <th>2020-04-05 05:00:00+00:00</th>\n",
       "      <td>143.71</td>\n",
       "      <td>143.71</td>\n",
       "      <td>143.71</td>\n",
       "      <td>143.71</td>\n",
       "      <td>0.018</td>\n",
       "      <td>3.0</td>\n",
       "      <td>143.710000</td>\n",
       "    </tr>\n",
       "    <tr>\n",
       "      <th>2020-05-04 05:00:00+00:00</th>\n",
       "      <td>205.10</td>\n",
       "      <td>205.10</td>\n",
       "      <td>202.81</td>\n",
       "      <td>202.81</td>\n",
       "      <td>20.933</td>\n",
       "      <td>2.0</td>\n",
       "      <td>203.961837</td>\n",
       "    </tr>\n",
       "    <tr>\n",
       "      <th>2020-05-22 05:00:00+00:00</th>\n",
       "      <td>199.34</td>\n",
       "      <td>209.84</td>\n",
       "      <td>199.34</td>\n",
       "      <td>209.84</td>\n",
       "      <td>5.519</td>\n",
       "      <td>13.0</td>\n",
       "      <td>206.092923</td>\n",
       "    </tr>\n",
       "    <tr>\n",
       "      <th>2020-05-23 05:00:00+00:00</th>\n",
       "      <td>208.28</td>\n",
       "      <td>208.60</td>\n",
       "      <td>206.02</td>\n",
       "      <td>207.76</td>\n",
       "      <td>3.484</td>\n",
       "      <td>6.0</td>\n",
       "      <td>207.307417</td>\n",
       "    </tr>\n",
       "    <tr>\n",
       "      <th>2020-05-24 05:00:00+00:00</th>\n",
       "      <td>210.47</td>\n",
       "      <td>210.47</td>\n",
       "      <td>201.42</td>\n",
       "      <td>201.42</td>\n",
       "      <td>11.933</td>\n",
       "      <td>5.0</td>\n",
       "      <td>208.982478</td>\n",
       "    </tr>\n",
       "  </tbody>\n",
       "</table>\n",
       "</div>"
      ],
      "text/plain": [
       "                                     open    high     low   close  volume  \\\n",
       "symbol  timestamp                                                           \n",
       "ETH/USD 2020-04-05 05:00:00+00:00  143.71  143.71  143.71  143.71   0.018   \n",
       "        2020-05-04 05:00:00+00:00  205.10  205.10  202.81  202.81  20.933   \n",
       "        2020-05-22 05:00:00+00:00  199.34  209.84  199.34  209.84   5.519   \n",
       "        2020-05-23 05:00:00+00:00  208.28  208.60  206.02  207.76   3.484   \n",
       "        2020-05-24 05:00:00+00:00  210.47  210.47  201.42  201.42  11.933   \n",
       "\n",
       "                                   trade_count        vwap  \n",
       "symbol  timestamp                                           \n",
       "ETH/USD 2020-04-05 05:00:00+00:00          3.0  143.710000  \n",
       "        2020-05-04 05:00:00+00:00          2.0  203.961837  \n",
       "        2020-05-22 05:00:00+00:00         13.0  206.092923  \n",
       "        2020-05-23 05:00:00+00:00          6.0  207.307417  \n",
       "        2020-05-24 05:00:00+00:00          5.0  208.982478  "
      ]
     },
     "execution_count": 14,
     "metadata": {},
     "output_type": "execute_result"
    }
   ],
   "source": [
    "from datetime import datetime\n",
    "\n",
    "cry = cira.Cryptocurrency(\"ETH/USD\")    \n",
    "\n",
    "start = datetime(2019, 9, 1)\n",
    "end = datetime(2022, 9, 1)\n",
    "\n",
    "data = cry.historical_data_df(start_date=start, end_date=end)\n",
    "data.head()"
   ]
  },
  {
   "cell_type": "code",
   "execution_count": 15,
   "metadata": {},
   "outputs": [
    {
     "name": "stdout",
     "output_type": "stream",
     "text": [
      "Mean Squared Error: 2585.1473869405463\n"
     ]
    }
   ],
   "source": [
    "from sklearn.model_selection import train_test_split\n",
    "from sklearn.linear_model import LinearRegression\n",
    "from sklearn.metrics import mean_squared_error\n",
    "\n",
    "\n",
    "y = data[['close']]\n",
    "X = data[['open', 'high', 'low']]\n",
    "\n",
    "window_size = 100\n",
    "y_preds = []\n",
    "actual_prices = []\n",
    "\n",
    "for i in range(len(X) - window_size):\n",
    "    X_window = X.iloc[i:i + window_size]\n",
    "    y_window = y.iloc[i:i + window_size]\n",
    "    \n",
    "    model = LinearRegression()\n",
    "    model.fit(X_window.to_numpy(), y_window.to_numpy())\n",
    "    \n",
    "    next_day_features = X.iloc[i + window_size]\n",
    "    next_day_pred = model.predict([next_day_features])[0]\n",
    "    \n",
    "    y_preds.append(next_day_pred)\n",
    "    actual_prices.append(y.iloc[i + window_size])\n",
    "\n",
    "mse = mean_squared_error(actual_prices, y_preds)\n",
    "print(f\"Mean Squared Error: {mse}\")"
   ]
  },
  {
   "cell_type": "code",
   "execution_count": 22,
   "metadata": {},
   "outputs": [
    {
     "name": "stdout",
     "output_type": "stream",
     "text": [
      "predicted profit/loss: 23423.7 USD$\n"
     ]
    }
   ],
   "source": [
    "\n",
    "\n",
    "def run(y_preds:list, cash:float, shares:int) -> float:\n",
    "    for i in range(len(y_preds) - 1):\n",
    "        if y_preds[i + 1] > y_preds[i] and cash >= y_preds[i + 1]: \n",
    "            cash -= y_preds[i + 1]\n",
    "            shares += 1\n",
    "            #print(f\"Buy 1 share at price: {y_preds[i + 1]}\")\n",
    "        \n",
    "        elif y_preds[i + 1] < y_preds[i] and shares > 0: \n",
    "            cash += y_preds[i + 1]\n",
    "            shares -= 1\n",
    "            #print(f\"Sell 1 share at price: {y_preds[i + 1]}\")\n",
    "\n",
    "    final_cash = cash + shares * y_preds[-1]\n",
    "    return final_cash[0]\n",
    "\n",
    "cash = portfolio.cash()  # Initial capital\n",
    "shares = portfolio.position_in(str(cry)).quantity()  # Number of shares held\n",
    "print(\"predicted profit/loss:\", f\"{run(y_preds, cash, shares) - portfolio.cash():.1f} USD$\")\n"
   ]
  },
  {
   "cell_type": "code",
   "execution_count": null,
   "metadata": {},
   "outputs": [],
   "source": []
  }
 ],
 "metadata": {
  "kernelspec": {
   "display_name": "env",
   "language": "python",
   "name": "python3"
  },
  "language_info": {
   "codemirror_mode": {
    "name": "ipython",
    "version": 3
   },
   "file_extension": ".py",
   "mimetype": "text/x-python",
   "name": "python",
   "nbconvert_exporter": "python",
   "pygments_lexer": "ipython3",
   "version": "3.8.10"
  },
  "orig_nbformat": 4
 },
 "nbformat": 4,
 "nbformat_minor": 2
}
