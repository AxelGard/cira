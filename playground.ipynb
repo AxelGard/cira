{
 "cells": [
  {
   "cell_type": "markdown",
   "metadata": {},
   "source": [
    "# Cira playground"
   ]
  },
  {
   "cell_type": "code",
   "execution_count": 1,
   "metadata": {},
   "outputs": [],
   "source": [
    "import cira"
   ]
  },
  {
   "cell_type": "code",
   "execution_count": 2,
   "metadata": {},
   "outputs": [],
   "source": [
    "cira.auth.KEY_FILE = \"../alpc_key.json\"\n",
    "\n",
    "assert cira.auth.check_keys(), \"the set keys dose not work\""
   ]
  },
  {
   "cell_type": "code",
   "execution_count": 3,
   "metadata": {},
   "outputs": [],
   "source": [
    "portfolio = cira.Portfolio()\n",
    "stock_exchange = cira.StockExchange()\n",
    "crypto_exchange = cira.CryptoExchange()"
   ]
  },
  {
   "cell_type": "code",
   "execution_count": 4,
   "metadata": {},
   "outputs": [
    {
     "name": "stdout",
     "output_type": "stream",
     "text": [
      "ETH/USD 0.0\n",
      "SPY 456.95\n"
     ]
    }
   ],
   "source": [
    "cry = cira.Cryptocurrency(\"ETH/USD\")    \n",
    "print(cry,cry.current_price())\n",
    "\n",
    "spy = cira.Stock(\"SPY\")\n",
    "print(spy, spy.current_price())"
   ]
  },
  {
   "cell_type": "code",
   "execution_count": 5,
   "metadata": {},
   "outputs": [
    {
     "name": "stdout",
     "output_type": "stream",
     "text": [
      "17597.6\n",
      "GOOGL 1360\n"
     ]
    }
   ],
   "source": [
    "print(portfolio.cash())\n",
    "pos = cira.Position(\"GOOGL\")\n",
    "print(pos, pos.quantity())"
   ]
  }
 ],
 "metadata": {
  "kernelspec": {
   "display_name": "env",
   "language": "python",
   "name": "python3"
  },
  "language_info": {
   "codemirror_mode": {
    "name": "ipython",
    "version": 3
   },
   "file_extension": ".py",
   "mimetype": "text/x-python",
   "name": "python",
   "nbconvert_exporter": "python",
   "pygments_lexer": "ipython3",
   "version": "3.8.10"
  },
  "orig_nbformat": 4
 },
 "nbformat": 4,
 "nbformat_minor": 2
}
