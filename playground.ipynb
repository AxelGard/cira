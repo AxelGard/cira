{
 "cells": [
  {
   "cell_type": "markdown",
   "metadata": {},
   "source": [
    "# Cira playground"
   ]
  },
  {
   "cell_type": "code",
   "execution_count": 1,
   "metadata": {},
   "outputs": [],
   "source": [
    "import cira"
   ]
  },
  {
   "cell_type": "code",
   "execution_count": 2,
   "metadata": {},
   "outputs": [],
   "source": [
    "cira.auth.KEY_FILE = \"../alpc_key.json\"\n",
    "\n",
    "assert cira.auth.check_keys(), \"the set keys dose not work\""
   ]
  },
  {
   "cell_type": "code",
   "execution_count": 3,
   "metadata": {},
   "outputs": [],
   "source": [
    "portfolio = cira.Portfolio()\n",
    "exchange = cira.Exchange()"
   ]
  },
  {
   "cell_type": "code",
   "execution_count": 4,
   "metadata": {},
   "outputs": [
    {
     "name": "stdout",
     "output_type": "stream",
     "text": [
      "ETH/USD 0.0\n",
      "SPY 450.06\n"
     ]
    }
   ],
   "source": [
    "cry = cira.Cryptocurrency(\"ETH/USD\")    \n",
    "print(cry,cry.current_price())\n",
    "\n",
    "spy = cira.Stock(\"SPY\")\n",
    "print(spy, spy.current_price())"
   ]
  },
  {
   "cell_type": "code",
   "execution_count": 5,
   "metadata": {},
   "outputs": [
    {
     "name": "stdout",
     "output_type": "stream",
     "text": [
      "17597.6\n",
      "GOOGL 1360\n"
     ]
    }
   ],
   "source": [
    "print(portfolio.cash())\n",
    "pos = cira.Position(\"GOOGL\")\n",
    "print(pos, pos.quantity())"
   ]
  },
  {
   "cell_type": "code",
   "execution_count": 6,
   "metadata": {},
   "outputs": [],
   "source": [
    "#exchange.get_all_stocks()[:5] # is cached but will do request first time "
   ]
  },
  {
   "cell_type": "code",
   "execution_count": 7,
   "metadata": {},
   "outputs": [
    {
     "data": {
      "text/plain": [
       "{'SPY': [{'symbol': 'SPY',\n",
       "   'timestamp': datetime.datetime(2022, 7, 1, 4, 0, tzinfo=datetime.timezone.utc),\n",
       "   'open': 376.56,\n",
       "   'high': 381.7,\n",
       "   'low': 373.8,\n",
       "   'close': 381.24,\n",
       "   'volume': 74084447.0,\n",
       "   'trade_count': 600889.0,\n",
       "   'vwap': 378.221933},\n",
       "  {'symbol': 'SPY',\n",
       "   'timestamp': datetime.datetime(2022, 7, 5, 4, 0, tzinfo=datetime.timezone.utc),\n",
       "   'open': 375.88,\n",
       "   'high': 381.98,\n",
       "   'low': 372.9,\n",
       "   'close': 381.96,\n",
       "   'volume': 79886359.0,\n",
       "   'trade_count': 645355.0,\n",
       "   'vwap': 377.447571},\n",
       "  {'symbol': 'SPY',\n",
       "   'timestamp': datetime.datetime(2022, 7, 6, 4, 0, tzinfo=datetime.timezone.utc),\n",
       "   'open': 382.11,\n",
       "   'high': 385.87,\n",
       "   'low': 379.6,\n",
       "   'close': 383.25,\n",
       "   'volume': 69842806.0,\n",
       "   'trade_count': 614418.0,\n",
       "   'vwap': 382.508246},\n",
       "  {'symbol': 'SPY',\n",
       "   'timestamp': datetime.datetime(2022, 7, 7, 4, 0, tzinfo=datetime.timezone.utc),\n",
       "   'open': 385.12,\n",
       "   'high': 389.83,\n",
       "   'low': 383.267,\n",
       "   'close': 388.99,\n",
       "   'volume': 64172156.0,\n",
       "   'trade_count': 467708.0,\n",
       "   'vwap': 387.621834},\n",
       "  {'symbol': 'SPY',\n",
       "   'timestamp': datetime.datetime(2022, 7, 8, 4, 0, tzinfo=datetime.timezone.utc),\n",
       "   'open': 387.27,\n",
       "   'high': 390.64,\n",
       "   'low': 385.66,\n",
       "   'close': 388.67,\n",
       "   'volume': 71954884.0,\n",
       "   'trade_count': 509773.0,\n",
       "   'vwap': 388.651531},\n",
       "  {'symbol': 'SPY',\n",
       "   'timestamp': datetime.datetime(2022, 7, 11, 4, 0, tzinfo=datetime.timezone.utc),\n",
       "   'open': 385.85,\n",
       "   'high': 386.87,\n",
       "   'low': 383.5,\n",
       "   'close': 384.23,\n",
       "   'volume': 57305434.0,\n",
       "   'trade_count': 465519.0,\n",
       "   'vwap': 384.862143},\n",
       "  {'symbol': 'SPY',\n",
       "   'timestamp': datetime.datetime(2022, 7, 12, 4, 0, tzinfo=datetime.timezone.utc),\n",
       "   'open': 383.65,\n",
       "   'high': 386.16,\n",
       "   'low': 378.99,\n",
       "   'close': 380.83,\n",
       "   'volume': 61996427.0,\n",
       "   'trade_count': 512185.0,\n",
       "   'vwap': 382.619846},\n",
       "  {'symbol': 'SPY',\n",
       "   'timestamp': datetime.datetime(2022, 7, 13, 4, 0, tzinfo=datetime.timezone.utc),\n",
       "   'open': 375.1,\n",
       "   'high': 381.92,\n",
       "   'low': 374.658,\n",
       "   'close': 378.83,\n",
       "   'volume': 83568542.0,\n",
       "   'trade_count': 671951.0,\n",
       "   'vwap': 378.823334},\n",
       "  {'symbol': 'SPY',\n",
       "   'timestamp': datetime.datetime(2022, 7, 14, 4, 0, tzinfo=datetime.timezone.utc),\n",
       "   'open': 373.61,\n",
       "   'high': 379.0498,\n",
       "   'low': 371.04,\n",
       "   'close': 377.91,\n",
       "   'volume': 89124659.0,\n",
       "   'trade_count': 637413.0,\n",
       "   'vwap': 375.583757}]}"
      ]
     },
     "execution_count": 7,
     "metadata": {},
     "output_type": "execute_result"
    }
   ],
   "source": [
    "from datetime import datetime\n",
    "\n",
    "start = datetime(2022, 7, 1)\n",
    "end = datetime(2022, 7, 15)\n",
    "spy.historical_data_df(start, end).head()"
   ]
  },
  {
   "cell_type": "code",
   "execution_count": null,
   "metadata": {},
   "outputs": [],
   "source": []
  }
 ],
 "metadata": {
  "kernelspec": {
   "display_name": "env",
   "language": "python",
   "name": "python3"
  },
  "language_info": {
   "codemirror_mode": {
    "name": "ipython",
    "version": 3
   },
   "file_extension": ".py",
   "mimetype": "text/x-python",
   "name": "python",
   "nbconvert_exporter": "python",
   "pygments_lexer": "ipython3",
   "version": "3.8.10"
  },
  "orig_nbformat": 4
 },
 "nbformat": 4,
 "nbformat_minor": 2
}
